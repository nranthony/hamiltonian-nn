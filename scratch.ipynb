{
 "cells": [
  {
   "cell_type": "code",
   "execution_count": 4,
   "metadata": {},
   "outputs": [
    {
     "name": "stdout",
     "output_type": "stream",
     "text": [
      "from data import get_dataset\n",
      "from hnn import HNN\n",
      "from hnn import HNN, PixelHNN\n",
      "from nn_models import MLP\n",
      "from nn_models import MLPAutoencoder, MLP\n",
      "from urllib.request import urlretrieve\n",
      "from utils import L2_loss\n",
      "from utils import L2_loss, rk4\n",
      "from utils import L2_loss, to_pickle, from_pickle\n",
      "from utils import choose_nonlinearity\n",
      "from utils import read_lipson, str2array\n",
      "from utils import rk4\n",
      "from utils import to_pickle, from_pickle\n",
      "import argparse\n",
      "import jax\n",
      "import jax.numpy\n",
      "import gym\n",
      "import imageio\n",
      "import numpy\n",
      "import os\n",
      "import pickle\n",
      "import scipy\n",
      "import scipy.integrate\n",
      "import scipy.misc\n",
      "import shutil\n",
      "import sys\n",
      "import torch\n",
      "import zipfile\n"
     ]
    }
   ],
   "source": [
    "import os\n",
    "import ast\n",
    "\n",
    "def find_imports(repo_path):\n",
    "    imports = set()\n",
    "\n",
    "    for root, _, files in os.walk(repo_path):\n",
    "        for file in files:\n",
    "            if file.endswith('.py'):\n",
    "                file_path = os.path.join(root, file)\n",
    "                try:\n",
    "                    with open(file_path, 'r') as f:\n",
    "                        tree = ast.parse(f.read())\n",
    "                        for node in ast.walk(tree):\n",
    "                            if isinstance(node, ast.Import):\n",
    "                                for alias in node.names:\n",
    "                                    imports.add(f\"import {alias.name}\")\n",
    "                            elif isinstance(node, ast.ImportFrom):\n",
    "                                module = node.module if node.module else ''\n",
    "                                names = ', '.join(alias.name for alias in node.names)\n",
    "                                imports.add(f\"from {module} import {names}\")\n",
    "                except Exception as e:\n",
    "                    print(f\"Error parsing {file_path}: {e}\")\n",
    "\n",
    "    return sorted(imports)\n",
    "\n",
    "# Usage\n",
    "repo_path = r\"C:\\repo\\nranthony\\hamiltonian-nn\"\n",
    "all_imports = find_imports(repo_path)\n",
    "for imp in all_imports:\n",
    "    print(imp)"
   ]
  },
  {
   "cell_type": "markdown",
   "metadata": {},
   "source": [
    "#### Hamiltonian Gradient Field\n"
   ]
  },
  {
   "cell_type": "code",
   "execution_count": 8,
   "metadata": {},
   "outputs": [],
   "source": [
    "import numpy as np\n",
    "import jax\n",
    "import jax.numpy as jnp\n",
    "\n",
    "def hamiltonian_fn(coords):\n",
    "    q, p = jnp.split(coords,2)\n",
    "    H = p**2 + q**2 # spring hamiltonian (linear oscillator)\n",
    "    return H\n",
    "\n",
    "def dynamics_fn(t, coords):\n",
    "    dcoords = jax.grad(hamiltonian_fn)(coords)\n",
    "    dqdt, dpdt = np.split(dcoords,2)\n",
    "    S = np.concatenate([dpdt, -dqdt], axis=-1)\n",
    "    return S\n",
    "\n",
    "def get_field(xmin=-1.2, xmax=1.2, ymin=-1.2, ymax=1.2, gridsize=20):\n",
    "    field = {'meta': locals()}\n",
    "\n",
    "    # meshgrid to get vector field\n",
    "    b, a = jnp.meshgrid(jnp.linspace(xmin, xmax, gridsize), jnp.linspace(ymin, ymax, gridsize))\n",
    "    ys = jnp.stack([b.flatten(), a.flatten()])\n",
    "    \n",
    "    # get vector directions\n",
    "    dydt = [dynamics_fn(None, y) for y in ys.T]\n",
    "    dydt = np.stack(dydt).T\n",
    "\n",
    "    field['x'] = ys.T\n",
    "    field['dx'] = dydt.T\n",
    "    return field"
   ]
  },
  {
   "cell_type": "code",
   "execution_count": null,
   "metadata": {},
   "outputs": [],
   "source": [
    "get_field()"
   ]
  },
  {
   "cell_type": "code",
   "execution_count": 15,
   "metadata": {},
   "outputs": [],
   "source": [
    "xmin=-1.2\n",
    "xmax=1.2\n",
    "ymin=-1.2\n",
    "ymax=1.2\n",
    "gridsize=20\n",
    "\n",
    "b, a = jnp.meshgrid(jnp.linspace(xmin, xmax, gridsize), jnp.linspace(ymin, ymax, gridsize))\n",
    "ys = jnp.stack([b.flatten(), a.flatten()])"
   ]
  },
  {
   "cell_type": "code",
   "execution_count": 21,
   "metadata": {},
   "outputs": [
    {
     "data": {
      "text/plain": [
       "Array([-1.2, -1.2], dtype=float32)"
      ]
     },
     "execution_count": 21,
     "metadata": {},
     "output_type": "execute_result"
    }
   ],
   "source": [
    "pq_vect = [(None, y) for y in ys.T]\n",
    "pq_vect[0][1]"
   ]
  },
  {
   "cell_type": "code",
   "execution_count": 26,
   "metadata": {},
   "outputs": [],
   "source": [
    "def hamiltonian_fn_qp(q,p):\n",
    "    return p**2 + q**2\n",
    "grad_hamiltonian_q = jax.grad(hamiltonian_fn_qp, argnums=0)\n",
    "grad_hamiltonian_p = jax.grad(hamiltonian_fn_qp, argnums=1)"
   ]
  },
  {
   "cell_type": "code",
   "execution_count": 25,
   "metadata": {},
   "outputs": [],
   "source": [
    "def dynamics_fn_qp(coords):\n",
    "    dqdt, dpdt = grad_hamiltonian_q(coords[0], coords[1]), grad_hamiltonian_p(coords[0], coords[1])\n",
    "    return jnp.concatenate([dpdt, -dqdt], axis=-1)\n"
   ]
  },
  {
   "cell_type": "code",
   "execution_count": 29,
   "metadata": {},
   "outputs": [
    {
     "name": "stdout",
     "output_type": "stream",
     "text": [
      "-2.4 -2.4\n",
      "2.88\n"
     ]
    }
   ],
   "source": [
    "coords = [-1.2, -1.2]\n",
    "dqdt, dpdt = grad_hamiltonian_q(coords[0], coords[1]), grad_hamiltonian_p(coords[0], coords[1])\n",
    "print(dqdt, dpdt)\n",
    "print(hamiltonian_fn_qp(coords[0], coords[1]))"
   ]
  },
  {
   "cell_type": "code",
   "execution_count": 27,
   "metadata": {},
   "outputs": [
    {
     "ename": "ValueError",
     "evalue": "Zero-dimensional arrays cannot be concatenated.",
     "output_type": "error",
     "traceback": [
      "\u001b[1;31m---------------------------------------------------------------------------\u001b[0m",
      "\u001b[1;31mValueError\u001b[0m                                Traceback (most recent call last)",
      "Cell \u001b[1;32mIn[27], line 1\u001b[0m\n\u001b[1;32m----> 1\u001b[0m \u001b[43mdynamics_fn_qp\u001b[49m\u001b[43m(\u001b[49m\u001b[43m[\u001b[49m\u001b[38;5;241;43m-\u001b[39;49m\u001b[38;5;241;43m1.2\u001b[39;49m\u001b[43m,\u001b[49m\u001b[43m \u001b[49m\u001b[38;5;241;43m-\u001b[39;49m\u001b[38;5;241;43m1.2\u001b[39;49m\u001b[43m]\u001b[49m\u001b[43m)\u001b[49m\n",
      "Cell \u001b[1;32mIn[25], line 3\u001b[0m, in \u001b[0;36mdynamics_fn_qp\u001b[1;34m(coords)\u001b[0m\n\u001b[0;32m      1\u001b[0m \u001b[38;5;28;01mdef\u001b[39;00m \u001b[38;5;21mdynamics_fn_qp\u001b[39m(coords):\n\u001b[0;32m      2\u001b[0m     dqdt, dpdt \u001b[38;5;241m=\u001b[39m grad_hamiltonian_q(coords[\u001b[38;5;241m0\u001b[39m], coords[\u001b[38;5;241m1\u001b[39m]), grad_hamiltonian_p(coords[\u001b[38;5;241m0\u001b[39m], coords[\u001b[38;5;241m1\u001b[39m])\n\u001b[1;32m----> 3\u001b[0m     \u001b[38;5;28;01mreturn\u001b[39;00m \u001b[43mjnp\u001b[49m\u001b[38;5;241;43m.\u001b[39;49m\u001b[43mconcatenate\u001b[49m\u001b[43m(\u001b[49m\u001b[43m[\u001b[49m\u001b[43mdpdt\u001b[49m\u001b[43m,\u001b[49m\u001b[43m \u001b[49m\u001b[38;5;241;43m-\u001b[39;49m\u001b[43mdqdt\u001b[49m\u001b[43m]\u001b[49m\u001b[43m,\u001b[49m\u001b[43m \u001b[49m\u001b[43maxis\u001b[49m\u001b[38;5;241;43m=\u001b[39;49m\u001b[38;5;241;43m-\u001b[39;49m\u001b[38;5;241;43m1\u001b[39;49m\u001b[43m)\u001b[49m\n",
      "File \u001b[1;32mc:\\Users\\nelly\\miniforge3\\envs\\hnn\\lib\\site-packages\\jax\\_src\\numpy\\lax_numpy.py:2900\u001b[0m, in \u001b[0;36mconcatenate\u001b[1;34m(arrays, axis, dtype)\u001b[0m\n\u001b[0;32m   2898\u001b[0m   \u001b[38;5;28;01mreturn\u001b[39;00m concatenate([ravel(a) \u001b[38;5;28;01mfor\u001b[39;00m a \u001b[38;5;129;01min\u001b[39;00m arrays], axis\u001b[38;5;241m=\u001b[39m\u001b[38;5;241m0\u001b[39m, dtype\u001b[38;5;241m=\u001b[39mdtype)\n\u001b[0;32m   2899\u001b[0m \u001b[38;5;28;01mif\u001b[39;00m ndim(arrays[\u001b[38;5;241m0\u001b[39m]) \u001b[38;5;241m==\u001b[39m \u001b[38;5;241m0\u001b[39m:\n\u001b[1;32m-> 2900\u001b[0m   \u001b[38;5;28;01mraise\u001b[39;00m \u001b[38;5;167;01mValueError\u001b[39;00m(\u001b[38;5;124m\"\u001b[39m\u001b[38;5;124mZero-dimensional arrays cannot be concatenated.\u001b[39m\u001b[38;5;124m\"\u001b[39m)\n\u001b[0;32m   2901\u001b[0m axis \u001b[38;5;241m=\u001b[39m _canonicalize_axis(axis, ndim(arrays[\u001b[38;5;241m0\u001b[39m]))\n\u001b[0;32m   2902\u001b[0m \u001b[38;5;28;01mif\u001b[39;00m dtype \u001b[38;5;129;01mis\u001b[39;00m \u001b[38;5;28;01mNone\u001b[39;00m:\n",
      "\u001b[1;31mValueError\u001b[0m: Zero-dimensional arrays cannot be concatenated."
     ]
    }
   ],
   "source": [
    "dynamics_fn_qp([-1.2, -1.2])"
   ]
  }
 ],
 "metadata": {
  "kernelspec": {
   "display_name": "hnn",
   "language": "python",
   "name": "python3"
  },
  "language_info": {
   "codemirror_mode": {
    "name": "ipython",
    "version": 3
   },
   "file_extension": ".py",
   "mimetype": "text/x-python",
   "name": "python",
   "nbconvert_exporter": "python",
   "pygments_lexer": "ipython3",
   "version": "3.10.14"
  }
 },
 "nbformat": 4,
 "nbformat_minor": 2
}
