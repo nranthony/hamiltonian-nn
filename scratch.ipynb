{
 "cells": [
  {
   "cell_type": "code",
   "execution_count": 4,
   "metadata": {},
   "outputs": [
    {
     "name": "stdout",
     "output_type": "stream",
     "text": [
      "from data import get_dataset\n",
      "from hnn import HNN\n",
      "from hnn import HNN, PixelHNN\n",
      "from nn_models import MLP\n",
      "from nn_models import MLPAutoencoder, MLP\n",
      "from urllib.request import urlretrieve\n",
      "from utils import L2_loss\n",
      "from utils import L2_loss, rk4\n",
      "from utils import L2_loss, to_pickle, from_pickle\n",
      "from utils import choose_nonlinearity\n",
      "from utils import read_lipson, str2array\n",
      "from utils import rk4\n",
      "from utils import to_pickle, from_pickle\n",
      "import argparse\n",
      "import jax\n",
      "import jax.numpy\n",
      "import gym\n",
      "import imageio\n",
      "import numpy\n",
      "import os\n",
      "import pickle\n",
      "import scipy\n",
      "import scipy.integrate\n",
      "import scipy.misc\n",
      "import shutil\n",
      "import sys\n",
      "import torch\n",
      "import zipfile\n"
     ]
    }
   ],
   "source": [
    "import os\n",
    "import ast\n",
    "\n",
    "def find_imports(repo_path):\n",
    "    imports = set()\n",
    "\n",
    "    for root, _, files in os.walk(repo_path):\n",
    "        for file in files:\n",
    "            if file.endswith('.py'):\n",
    "                file_path = os.path.join(root, file)\n",
    "                try:\n",
    "                    with open(file_path, 'r') as f:\n",
    "                        tree = ast.parse(f.read())\n",
    "                        for node in ast.walk(tree):\n",
    "                            if isinstance(node, ast.Import):\n",
    "                                for alias in node.names:\n",
    "                                    imports.add(f\"import {alias.name}\")\n",
    "                            elif isinstance(node, ast.ImportFrom):\n",
    "                                module = node.module if node.module else ''\n",
    "                                names = ', '.join(alias.name for alias in node.names)\n",
    "                                imports.add(f\"from {module} import {names}\")\n",
    "                except Exception as e:\n",
    "                    print(f\"Error parsing {file_path}: {e}\")\n",
    "\n",
    "    return sorted(imports)\n",
    "\n",
    "# Usage\n",
    "repo_path = r\"C:\\repo\\nranthony\\hamiltonian-nn\"\n",
    "all_imports = find_imports(repo_path)\n",
    "for imp in all_imports:\n",
    "    print(imp)"
   ]
  },
  {
   "cell_type": "code",
   "execution_count": 3,
   "metadata": {},
   "outputs": [
    {
     "name": "stdout",
     "output_type": "stream",
     "text": [
      "-0.20584226\n",
      "-0.20584226\n",
      "-0.20584226\n",
      "-0.20584226\n"
     ]
    }
   ],
   "source": [
    "import jax\n",
    "key = jax.random.PRNGKey(0)\n",
    "print(jax.random.normal(key))\n",
    "print(jax.random.normal(key))\n",
    "print(jax.random.normal(key))\n",
    "print(jax.random.normal(key))"
   ]
  },
  {
   "cell_type": "code",
   "execution_count": 5,
   "metadata": {},
   "outputs": [
    {
     "name": "stdout",
     "output_type": "stream",
     "text": [
      "[1.76405235 0.40015721 0.97873798 2.2408932  1.86755799]\n",
      "[-0.97727788  0.95008842 -0.15135721 -0.10321885  0.4105985 ]\n"
     ]
    }
   ],
   "source": [
    "import numpy as np\n",
    "\n",
    "np.random.seed(0)\n",
    "print(np.random.randn(5))\n",
    "print(np.random.randn(5))"
   ]
  }
 ],
 "metadata": {
  "kernelspec": {
   "display_name": "hnn",
   "language": "python",
   "name": "python3"
  },
  "language_info": {
   "codemirror_mode": {
    "name": "ipython",
    "version": 3
   },
   "file_extension": ".py",
   "mimetype": "text/x-python",
   "name": "python",
   "nbconvert_exporter": "python",
   "pygments_lexer": "ipython3",
   "version": "3.10.14"
  }
 },
 "nbformat": 4,
 "nbformat_minor": 2
}
